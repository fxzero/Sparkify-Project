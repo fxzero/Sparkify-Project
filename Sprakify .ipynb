{
 "cells": [
  {
   "cell_type": "code",
   "execution_count": 1,
   "metadata": {},
   "outputs": [],
   "source": [
    "# import libraries\n",
    "from pyspark.sql import SparkSession\n",
    "from pyspark.sql.functions import avg, col, concat, desc, explode, lit, min, max, split, udf, isnull\n",
    "from pyspark.sql.types import IntegerType\n",
    "\n",
    "from pyspark.ml import Pipeline\n",
    "from pyspark.ml.classification import LogisticRegression, RandomForestClassifier, GBTClassifier, DecisionTreeClassifier, NaiveBayes\n",
    "from pyspark.ml.evaluation import MulticlassClassificationEvaluator\n",
    "from pyspark.ml.feature import CountVectorizer, IDF, Normalizer, PCA, RegexTokenizer, StandardScaler, StopWordsRemover, StringIndexer, VectorAssembler\n",
    "from pyspark.ml.regression import LinearRegression\n",
    "from pyspark.ml.tuning import CrossValidator, ParamGridBuilder\n",
    "\n",
    "import re\n",
    "import datetime\n",
    "import matplotlib.pyplot as plt\n",
    "import pandas as pd\n",
    "import seaborn as sns"
   ]
  },
  {
   "cell_type": "code",
   "execution_count": 2,
   "metadata": {},
   "outputs": [],
   "source": [
    "spark = SparkSession \\\n",
    "    .builder \\\n",
    "    .appName(\"Sparkify\") \\\n",
    "    .getOrCreate()"
   ]
  },
  {
   "cell_type": "code",
   "execution_count": 3,
   "metadata": {},
   "outputs": [
    {
     "data": {
      "text/plain": [
       "DataFrame[artist: string, auth: string, firstName: string, gender: string, itemInSession: bigint, lastName: string, length: double, level: string, location: string, method: string, page: string, registration: bigint, sessionId: bigint, song: string, status: bigint, ts: bigint, userAgent: string, userId: string]"
      ]
     },
     "execution_count": 3,
     "metadata": {},
     "output_type": "execute_result"
    }
   ],
   "source": [
    "# Read in full sparkify dataset\n",
    "# event_data = \"s3n://dsnd-sparkify/sparkify_event_data.json\"\n",
    "sparkify_data = 'medium-sparkify-event-data.json'\n",
    "df = spark.read.json(sparkify_data)\n",
    "df.persist()"
   ]
  },
  {
   "cell_type": "markdown",
   "metadata": {},
   "source": [
    "# Load and Clean Dataset\n",
    "Clean your dataset, checking for invalid or missing data. For example, records without userids or sessionids."
   ]
  },
  {
   "cell_type": "markdown",
   "metadata": {},
   "source": [
    "### Clean the NA value in userId and sessionId"
   ]
  },
  {
   "cell_type": "code",
   "execution_count": 4,
   "metadata": {},
   "outputs": [
    {
     "data": {
      "text/plain": [
       "543705"
      ]
     },
     "execution_count": 4,
     "metadata": {},
     "output_type": "execute_result"
    }
   ],
   "source": [
    "df.count()"
   ]
  },
  {
   "cell_type": "code",
   "execution_count": 5,
   "metadata": {},
   "outputs": [
    {
     "data": {
      "text/plain": [
       "543705"
      ]
     },
     "execution_count": 5,
     "metadata": {},
     "output_type": "execute_result"
    }
   ],
   "source": [
    "df = df.dropna(how = \"any\", subset = [\"userId\", \"sessionId\"])\n",
    "df.count()"
   ]
  },
  {
   "cell_type": "markdown",
   "metadata": {},
   "source": [
    "### Clean the empty userId"
   ]
  },
  {
   "cell_type": "code",
   "execution_count": 6,
   "metadata": {},
   "outputs": [
    {
     "data": {
      "text/plain": [
       "528005"
      ]
     },
     "execution_count": 6,
     "metadata": {},
     "output_type": "execute_result"
    }
   ],
   "source": [
    "df = df.filter(df.userId!=\"\")\n",
    "df.count()"
   ]
  },
  {
   "cell_type": "markdown",
   "metadata": {},
   "source": [
    "# Exploratory Data Analysis\n",
    "When you're working with the full dataset, perform EDA by loading a small subset of the data and doing basic manipulations within Spark. In this workspace, you are already provided a small subset of data you can explore.\n",
    "\n",
    "### Define Churn\n",
    "\n",
    "Once you've done some preliminary analysis, create a column `Churn` to use as the label for your model. I suggest using the `Cancellation Confirmation` events to define your churn, which happen for both paid and free users. As a bonus task, you can also look into the `Downgrade` events.\n",
    "\n",
    "### Explore Data\n",
    "Once you've defined churn, perform some exploratory data analysis to observe the behavior for users who stayed vs users who churned. You can start by exploring aggregates on these two groups of users, observing how much of a specific action they experienced per a certain time unit or number of songs played."
   ]
  },
  {
   "cell_type": "markdown",
   "metadata": {},
   "source": [
    " See different pages"
   ]
  },
  {
   "cell_type": "code",
   "execution_count": 7,
   "metadata": {},
   "outputs": [
    {
     "name": "stdout",
     "output_type": "stream",
     "text": [
      "+--------------------+\n",
      "|                page|\n",
      "+--------------------+\n",
      "|              Cancel|\n",
      "|    Submit Downgrade|\n",
      "|         Thumbs Down|\n",
      "|                Home|\n",
      "|           Downgrade|\n",
      "|         Roll Advert|\n",
      "|              Logout|\n",
      "|       Save Settings|\n",
      "|Cancellation Conf...|\n",
      "|               About|\n",
      "|            Settings|\n",
      "|     Add to Playlist|\n",
      "|          Add Friend|\n",
      "|            NextSong|\n",
      "|           Thumbs Up|\n",
      "|                Help|\n",
      "|             Upgrade|\n",
      "|               Error|\n",
      "|      Submit Upgrade|\n",
      "+--------------------+\n",
      "\n"
     ]
    }
   ],
   "source": [
    "df.select(\"page\").dropDuplicates().show()"
   ]
  },
  {
   "cell_type": "markdown",
   "metadata": {},
   "source": [
    " Let's see one user who did Cancellation Confirmation"
   ]
  },
  {
   "cell_type": "code",
   "execution_count": 8,
   "metadata": {},
   "outputs": [
    {
     "name": "stdout",
     "output_type": "stream",
     "text": [
      "+------+\n",
      "|userId|\n",
      "+------+\n",
      "|   296|\n",
      "|100010|\n",
      "|200002|\n",
      "|    51|\n",
      "|   124|\n",
      "|200037|\n",
      "|    54|\n",
      "|   234|\n",
      "|   154|\n",
      "|   132|\n",
      "+------+\n",
      "only showing top 10 rows\n",
      "\n"
     ]
    }
   ],
   "source": [
    "df.filter(df.page==\"Cancellation Confirmation\").select(\"userId\").dropDuplicates().show(10)"
   ]
  },
  {
   "cell_type": "code",
   "execution_count": 9,
   "metadata": {},
   "outputs": [],
   "source": [
    "# add time to see the time clear\n",
    "get_time = udf(lambda x: datetime.datetime.fromtimestamp(x / 1000.0).strftime(\"%Y-%m-%d %H:%M:%S\"))\n",
    "df = df.withColumn(\"time\", get_time(df.ts))"
   ]
  },
  {
   "cell_type": "code",
   "execution_count": 10,
   "metadata": {},
   "outputs": [
    {
     "name": "stdout",
     "output_type": "stream",
     "text": [
      "+------+---------------+-------------------+-----+--------------------+---------+\n",
      "|userId|           page|               time|level|                song|sessionId|\n",
      "+------+---------------+-------------------+-----+--------------------+---------+\n",
      "|   296|       NextSong|2018-10-02 10:55:51| free|Right Now (Radio ...|      463|\n",
      "|   296|       NextSong|2018-10-02 10:59:28| free|      Freddie's Dead|      463|\n",
      "|   296|       NextSong|2018-10-02 11:06:40| free|      Lonesome Loser|      463|\n",
      "|   296|       NextSong|2018-10-03 08:56:43| free|            Elegante|      631|\n",
      "|   296|       NextSong|2018-10-03 09:00:42| free|              Winner|      631|\n",
      "|   296|       NextSong|2018-10-03 09:04:46| free|        Last Of Days|      631|\n",
      "|   296|       NextSong|2018-10-03 09:08:58| free|               Angel|      631|\n",
      "|   296|       NextSong|2018-10-03 09:13:28| free|         L'Excessive|      631|\n",
      "|   296|       NextSong|2018-10-03 09:16:31| free|     Baby I'm A Fool|      631|\n",
      "|   296|       NextSong|2018-10-03 09:20:01| free|       Silver Lining|      631|\n",
      "|   296|    Roll Advert|2018-10-03 09:22:23| free|                null|      631|\n",
      "|   296|       NextSong|2018-10-03 09:26:03| free|            Tive Sim|      631|\n",
      "|   296|      Thumbs Up|2018-10-03 09:26:04| free|                null|      631|\n",
      "|   296|       NextSong|2018-10-03 09:28:10| free|           Black Mud|      631|\n",
      "|   296|       NextSong|2018-10-03 09:30:19| free|Ill Tell You Back...|      631|\n",
      "|   296|       NextSong|2018-10-03 09:32:45| free|   Can't Say Goodbye|      631|\n",
      "|   296|    Roll Advert|2018-10-03 09:34:28| free|                null|      631|\n",
      "|   296|       NextSong|2018-10-03 09:36:52| free|New Direction (Or...|      631|\n",
      "|   296|       NextSong|2018-10-03 09:41:15| free|          No Diggity|      631|\n",
      "|   296|       NextSong|2018-10-03 09:46:19| free|You'd Be So Nice ...|      631|\n",
      "|   296|       NextSong|2018-10-03 09:48:35| free|SinceritÃÂ© Et J...|      631|\n",
      "|   296|       NextSong|2018-10-03 09:51:50| free|Underneath The Stars|      631|\n",
      "|   296|       NextSong|2018-10-03 09:58:06| free|Dog Days Are Over...|      631|\n",
      "|   296|       NextSong|2018-10-03 10:01:45| free|          Miles Away|      631|\n",
      "|   296|         Logout|2018-10-03 10:01:46| free|                null|      631|\n",
      "|   296|           Home|2018-10-04 09:53:37| free|                null|      745|\n",
      "|   296|     Add Friend|2018-10-04 09:53:38| free|                null|      745|\n",
      "|   296|       Settings|2018-10-04 09:55:04| free|                null|      745|\n",
      "|   296|           Help|2018-10-04 09:55:15| free|                null|      745|\n",
      "|   296|           Home|2018-10-04 09:59:29| free|                null|      745|\n",
      "|   296|       NextSong|2018-10-04 10:01:05| free|  Ride The Lightning|      745|\n",
      "|   296|       NextSong|2018-10-04 10:08:35| free|      Black Hole Sun|      745|\n",
      "|   296|       NextSong|2018-10-04 10:13:07| free|          Hard Times|      745|\n",
      "|   296|Add to Playlist|2018-10-04 10:13:43| free|                null|      745|\n",
      "|   296|       NextSong|2018-10-04 10:16:42| free|                  88|      745|\n",
      "|   296|       NextSong|2018-10-04 10:20:28| free|               Shots|      745|\n",
      "|   296|       NextSong|2018-10-04 10:24:10| free|          Dance Flow|      745|\n",
      "|   296|       NextSong|2018-10-04 10:31:47| free|    Mi primer millon|      745|\n",
      "|   296|       NextSong|2018-10-04 10:35:44| free|         Bulletproof|      745|\n",
      "|   296|       NextSong|2018-10-04 10:39:09| free|        Big Boss Man|      745|\n",
      "|   296|      Thumbs Up|2018-10-04 10:39:10| free|                null|      745|\n",
      "|   296|       NextSong|2018-10-04 10:42:10| free|             Secrets|      745|\n",
      "|   296|       NextSong|2018-10-04 10:45:54| free|Mr. Highway's Thi...|      745|\n",
      "|   296|       NextSong|2018-10-04 10:50:09| free|              TOGURO|      745|\n",
      "|   296|       NextSong|2018-10-04 10:54:11| free|  Mariposas Y Cebras|      745|\n",
      "|   296|       NextSong|2018-10-04 10:59:14| free|     Johnny B. Goode|      745|\n",
      "|   296|       NextSong|2018-10-04 11:04:04| free|         Chica Linda|      745|\n",
      "|   296|       NextSong|2018-10-04 11:07:33| free|            Miss You|      745|\n",
      "|   296|       NextSong|2018-10-04 11:11:40| free|           Starlight|      745|\n",
      "|   296|      Thumbs Up|2018-10-04 11:11:41| free|                null|      745|\n",
      "|   296|       NextSong|2018-10-04 11:16:23| free|               Layla|      745|\n",
      "|   296|    Roll Advert|2018-10-04 11:23:19| free|                null|      745|\n",
      "|   296|       NextSong|2018-10-04 11:23:28| free|      Gives You Hell|      745|\n",
      "|   296|       NextSong|2018-10-04 11:27:01| free| Behind Closed Doors|      745|\n",
      "|   296|       NextSong|2018-10-04 11:30:16| free|            The Rain|      745|\n",
      "|   296|       NextSong|2018-10-04 11:33:33| free|           Crossover|      745|\n",
      "|   296|    Roll Advert|2018-10-04 11:38:03| free|                null|      745|\n",
      "|   296|       NextSong|2018-10-04 11:39:20| free|Candy Shop (Album...|      745|\n",
      "|   296|     Add Friend|2018-10-04 11:39:21| free|                null|      745|\n",
      "|   296|       NextSong|2018-10-04 11:43:02| free|        Eenie Meenie|      745|\n",
      "|   296|         Logout|2018-10-04 11:43:03| free|                null|      745|\n",
      "|   296|           Home|2018-10-04 11:46:48| free|                null|      745|\n",
      "|   296|       NextSong|2018-10-04 11:47:58| free|       ..Come Around|      745|\n",
      "|   296|       NextSong|2018-10-04 11:51:42| free|  Heartbreak Warfare|      745|\n",
      "|   296|      Thumbs Up|2018-10-04 11:51:43| free|                null|      745|\n",
      "|   296|       NextSong|2018-10-04 11:56:11| free|           Something|      745|\n",
      "|   296|       NextSong|2018-10-04 12:02:20| free|               Gears|      745|\n",
      "|   296|       NextSong|2018-10-04 12:06:19| free|             Gravity|      745|\n",
      "|   296|      Thumbs Up|2018-10-04 12:06:20| free|                null|      745|\n",
      "|   296|       NextSong|2018-10-04 12:10:24| free|           Fireflies|      745|\n",
      "|   296|           Home|2018-10-04 12:11:14| free|                null|      745|\n",
      "|   296|       NextSong|2018-10-04 12:14:09| free|Chemical Calisthe...|      745|\n",
      "|   296|    Roll Advert|2018-10-04 12:15:29| free|                null|      745|\n",
      "|   296|       NextSong|2018-10-04 12:17:30| free|          Le Fardeau|      745|\n",
      "|   296|       NextSong|2018-10-04 12:23:00| free|              My Man|      745|\n",
      "|   296|       NextSong|2018-10-04 12:27:01| free|             Invalid|      745|\n",
      "|   296|       NextSong|2018-10-04 12:30:54| free|               Mamma|      745|\n",
      "|   296|    Roll Advert|2018-10-04 12:31:24| free|                null|      745|\n",
      "|   296|       NextSong|2018-10-04 12:35:05| free|      Hombre Al Agua|      745|\n",
      "|   296|       NextSong|2018-10-04 12:41:33| free|Chewing Gum (Voca...|      745|\n",
      "|   296|      Thumbs Up|2018-10-04 12:41:34| free|                null|      745|\n",
      "|   296|       NextSong|2018-10-04 12:45:01| free| It's Just A Thought|      745|\n",
      "|   296|    Roll Advert|2018-10-04 12:46:12| free|                null|      745|\n",
      "|   296|       NextSong|2018-10-04 12:48:51| free|          Wild World|      745|\n",
      "|   296|       NextSong|2018-10-04 12:52:11| free|    Kiss With A Fist|      745|\n",
      "|   296|       NextSong|2018-10-04 12:54:22| free|       Serve Chilled|      745|\n",
      "|   296|       NextSong|2018-10-04 12:59:31| free|        La Despedida|      745|\n",
      "|   296|       NextSong|2018-10-04 13:02:53| free|Its Going Down (f...|      745|\n",
      "|   296|       NextSong|2018-10-04 13:05:36| free|         Bad Company|      745|\n",
      "|   296|       NextSong|2018-10-04 13:09:58| free|After The Gold Ru...|      745|\n",
      "|   296|       NextSong|2018-10-04 13:13:44| free|           Slowdance|      745|\n",
      "|   296|       NextSong|2018-10-04 13:18:07| free|Theme From Harry'...|      745|\n",
      "|   296|       NextSong|2018-10-04 13:20:38| free| Songs Of The Season|      745|\n",
      "|   296|       NextSong|2018-10-04 13:23:40| free|        The Stallion|      745|\n",
      "|   296|       NextSong|2018-10-04 13:28:16| free|       Valio La Pena|      745|\n",
      "|   296|       NextSong|2018-10-04 13:33:05| free|            Tive Sim|      745|\n",
      "|   296|    Roll Advert|2018-10-04 13:43:54| free|                null|      745|\n",
      "|   296|       NextSong|2018-10-04 13:44:10| free|              Pepper|      745|\n",
      "|   296|       NextSong|2018-10-04 13:49:07| free|    Carnavals Triste|      745|\n",
      "|   296|Add to Playlist|2018-10-04 13:49:41| free|                null|      745|\n",
      "+------+---------------+-------------------+-----+--------------------+---------+\n",
      "only showing top 100 rows\n",
      "\n"
     ]
    }
   ],
   "source": [
    "df.select([\"userId\", \"page\", \"time\", \"level\", \"song\", \"sessionId\"]).where(df.userId == \"296\").sort(\"time\").show(100)"
   ]
  },
  {
   "cell_type": "markdown",
   "metadata": {},
   "source": [
    "Add churn column"
   ]
  },
  {
   "cell_type": "code",
   "execution_count": 11,
   "metadata": {},
   "outputs": [],
   "source": [
    "churn_users = df.filter(df.page==\"Cancellation Confirmation\").select(\"userId\").dropDuplicates()\n",
    "churn_users_list = [(row['userId']) for row in churn_users.collect()]\n",
    "df_withchurn = df.withColumn(\"churn\", df.userId.isin(churn_users_list))"
   ]
  },
  {
   "cell_type": "markdown",
   "metadata": {},
   "source": [
    "Show the gender distribution between churn user and normal user"
   ]
  },
  {
   "cell_type": "code",
   "execution_count": 12,
   "metadata": {},
   "outputs": [
    {
     "name": "stdout",
     "output_type": "stream",
     "text": [
      "+-----+------+-----+\n",
      "|churn|gender|count|\n",
      "+-----+------+-----+\n",
      "|false|     M|  196|\n",
      "|false|     F|  153|\n",
      "| true|     F|   45|\n",
      "| true|     M|   54|\n",
      "+-----+------+-----+\n",
      "\n"
     ]
    }
   ],
   "source": [
    "df_withchurn.dropDuplicates([\"userId\", \"gender\"]).groupby([\"churn\", \"gender\"]).count().sort(\"churn\").show()"
   ]
  },
  {
   "cell_type": "code",
   "execution_count": 13,
   "metadata": {},
   "outputs": [
    {
     "data": {
      "text/plain": [
       "<matplotlib.axes._subplots.AxesSubplot at 0x7f8fa874b6a0>"
      ]
     },
     "execution_count": 13,
     "metadata": {},
     "output_type": "execute_result"
    },
    {
     "data": {
      "image/png": "[encoded data removed]",
      "text/plain": [
       "<matplotlib.figure.Figure at 0x7f8fa874be80>"
      ]
     },
     "metadata": {
      "needs_background": "light"
     },
     "output_type": "display_data"
    }
   ],
   "source": [
    "df_pd = df_withchurn.dropDuplicates([\"userId\", \"gender\"]).groupby([\"churn\", \"gender\"]).count().sort(\"churn\").toPandas()\n",
    "sns.barplot(x='churn', y='count', hue='gender', data=df_pd)"
   ]
  },
  {
   "cell_type": "markdown",
   "metadata": {},
   "source": [
    "Show the page use distribution between churn user and normal user"
   ]
  },
  {
   "cell_type": "code",
   "execution_count": 14,
   "metadata": {},
   "outputs": [],
   "source": [
    "churn_count = df_withchurn.filter(df_withchurn.churn==1).count()\n",
    "no_churn_count = df_withchurn.filter(df_withchurn.churn==0).count()\n",
    "\n",
    "df_temp1 = df_withchurn.filter(df_withchurn.churn==1).filter(df_withchurn.page!=\"NextSong\").groupby([\"page\"]).count()\n",
    "df_temp1 = df_temp1.withColumn(\"cFreq\", df_temp1[\"count\"]/(churn_count/100)).sort(\"page\")\n",
    "\n",
    "df_temp2 = df_withchurn.filter(df_withchurn.churn==0).filter(df_withchurn.page!=\"NextSong\").groupby([\"page\"]).count()\n",
    "df_temp2 = df_temp2.withColumn(\"ncFreq\", df_temp2[\"count\"]/(no_churn_count/100)).sort(\"page\")"
   ]
  },
  {
   "cell_type": "code",
   "execution_count": 15,
   "metadata": {},
   "outputs": [
    {
     "data": {
      "text/plain": [
       "<matplotlib.axes._subplots.AxesSubplot at 0x7f8fa873f128>"
      ]
     },
     "execution_count": 15,
     "metadata": {},
     "output_type": "execute_result"
    },
    {
     "data": {
      "image/png": "[encoded data removed]",
      "text/plain": [
       "<matplotlib.figure.Figure at 0x7f8fa873f240>"
      ]
     },
     "metadata": {
      "needs_background": "light"
     },
     "output_type": "display_data"
    }
   ],
   "source": [
    "df_pd = df_temp1.join(df_temp2, \"page\", \"outer\").drop(\"count\").fillna(0).toPandas()\n",
    "df_pd.plot.bar(\"page\")"
   ]
  },
  {
   "cell_type": "markdown",
   "metadata": {},
   "source": [
    "Show the level when the user churned"
   ]
  },
  {
   "cell_type": "code",
   "execution_count": 16,
   "metadata": {},
   "outputs": [
    {
     "data": {
      "text/plain": [
       "<matplotlib.axes._subplots.AxesSubplot at 0x7f8fa85ec048>"
      ]
     },
     "execution_count": 16,
     "metadata": {},
     "output_type": "execute_result"
    },
    {
     "data": {
      "image/png": "[encoded data removed]",
      "text/plain": [
       "<matplotlib.figure.Figure at 0x7f8fa8623e80>"
      ]
     },
     "metadata": {
      "needs_background": "light"
     },
     "output_type": "display_data"
    }
   ],
   "source": [
    "df_pd = df_withchurn.filter(df_withchurn.page==\"Cancellation Confirmation\").groupby(\"level\").count().toPandas()\n",
    "sns.barplot(x=\"level\", y=\"count\", data=df_pd)"
   ]
  },
  {
   "cell_type": "markdown",
   "metadata": {},
   "source": [
    "Show the time span of the log"
   ]
  },
  {
   "cell_type": "code",
   "execution_count": 17,
   "metadata": {},
   "outputs": [
    {
     "name": "stdout",
     "output_type": "stream",
     "text": [
      "+-------+-------------------+\n",
      "|summary|               time|\n",
      "+-------+-------------------+\n",
      "|  count|             528005|\n",
      "|   mean|               null|\n",
      "| stddev|               null|\n",
      "|    min|2018-10-01 00:00:11|\n",
      "|    max|2018-12-01 00:01:06|\n",
      "+-------+-------------------+\n",
      "\n"
     ]
    }
   ],
   "source": [
    "df_withchurn.select(\"time\").describe().show()"
   ]
  },
  {
   "cell_type": "markdown",
   "metadata": {},
   "source": [
    "Show the distribution in operations in each session"
   ]
  },
  {
   "cell_type": "code",
   "execution_count": 18,
   "metadata": {},
   "outputs": [
    {
     "data": {
      "text/plain": [
       "<matplotlib.axes._subplots.AxesSubplot at 0x7f8fa8481550>"
      ]
     },
     "execution_count": 18,
     "metadata": {},
     "output_type": "execute_result"
    },
    {
     "data": {
      "image/png": "[encoded data removed]",
      "text/plain": [
       "<matplotlib.figure.Figure at 0x7f8fa873fc50>"
      ]
     },
     "metadata": {
      "needs_background": "light"
     },
     "output_type": "display_data"
    }
   ],
   "source": [
    "df_pd = df_withchurn.groupby(\"churn\", \"userId\", \"sessionId\").count().toPandas()\n",
    "sns.boxplot(x='count', y='churn', orient=\"h\", data=df_pd)"
   ]
  },
  {
   "cell_type": "markdown",
   "metadata": {},
   "source": [
    "Time distribution"
   ]
  },
  {
   "cell_type": "code",
   "execution_count": 19,
   "metadata": {},
   "outputs": [],
   "source": [
    "get_hour = udf(lambda x: datetime.datetime.fromtimestamp(x / 1000.0).hour)\n",
    "df_withchurn = df_withchurn.withColumn(\"hour\", get_hour(df_withchurn.ts))\n",
    "\n",
    "get_weekday = udf(lambda x: datetime.datetime.fromtimestamp(x / 1000.0).strftime(\"%w\"))\n",
    "df_withchurn = df_withchurn.withColumn(\"weekday\", get_weekday(df_withchurn.ts))\n",
    "\n",
    "get_day = udf(lambda x: datetime.datetime.fromtimestamp(x / 1000.0).day)\n",
    "df_withchurn = df_withchurn.withColumn(\"day\", get_day(df_withchurn.ts))"
   ]
  },
  {
   "cell_type": "code",
   "execution_count": 20,
   "metadata": {},
   "outputs": [],
   "source": [
    "def plot_cnt_by_churn(time): \n",
    "    \"\"\"\n",
    "    This function use to plot the distribution of different dimension\n",
    "    \"\"\"\n",
    "    df_pd = df_withchurn.filter(df_withchurn.page == \"NextSong\").groupby(\"churn\", time).count().orderBy(df_withchurn[time].cast(\"float\")).toPandas()\n",
    "    df_pd[time] = pd.to_numeric(df_pd[time])\n",
    "    df_pd[df_pd.churn==0].plot.bar(x=time, y='count', color='Blue', label='Not churn')\n",
    "    df_pd[df_pd.churn==1].plot.bar(x=time, y='count', color='Red', label='Churn')"
   ]
  },
  {
   "cell_type": "code",
   "execution_count": 21,
   "metadata": {},
   "outputs": [
    {
     "data": {
      "image/png": "[encoded data removed]",
      "text/plain": [
       "<matplotlib.figure.Figure at 0x7f8fa837c358>"
      ]
     },
     "metadata": {
      "needs_background": "light"
     },
     "output_type": "display_data"
    },
    {
     "data": {
      "image/png": "[encoded data removed]",
      "text/plain": [
       "<matplotlib.figure.Figure at 0x7f8fa844a940>"
      ]
     },
     "metadata": {
      "needs_background": "light"
     },
     "output_type": "display_data"
    }
   ],
   "source": [
    "plot_cnt_by_churn(\"hour\")"
   ]
  },
  {
   "cell_type": "code",
   "execution_count": 22,
   "metadata": {},
   "outputs": [
    {
     "data": {
      "image/png": "[encoded data removed]",
      "text/plain": [
       "<matplotlib.figure.Figure at 0x7f8fa83682e8>"
      ]
     },
     "metadata": {
      "needs_background": "light"
     },
     "output_type": "display_data"
    },
    {
     "data": {
      "image/png": "[encoded data removed]",
      "text/plain": [
       "<matplotlib.figure.Figure at 0x7f8fa8289ac8>"
      ]
     },
     "metadata": {
      "needs_background": "light"
     },
     "output_type": "display_data"
    }
   ],
   "source": [
    "plot_cnt_by_churn(\"weekday\")"
   ]
  },
  {
   "cell_type": "code",
   "execution_count": 23,
   "metadata": {},
   "outputs": [
    {
     "data": {
      "image/png": "[encoded data removed]",
      "text/plain": [
       "<matplotlib.figure.Figure at 0x7f8fa82b0e48>"
      ]
     },
     "metadata": {
      "needs_background": "light"
     },
     "output_type": "display_data"
    },
    {
     "data": {
      "image/png": "[encoded data removed]",
      "text/plain": [
       "<matplotlib.figure.Figure at 0x7f8fa81f8438>"
      ]
     },
     "metadata": {
      "needs_background": "light"
     },
     "output_type": "display_data"
    }
   ],
   "source": [
    "plot_cnt_by_churn(\"day\")"
   ]
  },
  {
   "cell_type": "markdown",
   "metadata": {},
   "source": [
    "# Feature Engineering\n",
    "Once you've familiarized yourself with the data, build out the features you find promising to train your model on. To work with the full dataset, you can follow the following steps.\n",
    "- Write a script to extract the necessary features from the smaller subset of data\n",
    "- Ensure that your script is scalable, using the best practices discussed in Lesson 3\n",
    "- Try your script on the full data set, debugging your script if necessary\n",
    "\n",
    "If you are working in the classroom workspace, you can just extract features based on the small subset of data contained here. Be sure to transfer over this work to the larger dataset when you work on your Spark cluster."
   ]
  },
  {
   "cell_type": "markdown",
   "metadata": {},
   "source": [
    "Feature 1: number of days since registration"
   ]
  },
  {
   "cell_type": "code",
   "execution_count": 24,
   "metadata": {},
   "outputs": [],
   "source": [
    "user_max_ts = df_withchurn.groupby(\"userId\").max(\"ts\").sort(\"userId\")\n",
    "user_reg_ts = df_withchurn.select(\"userId\", \"registration\").dropDuplicates().sort(\"userId\")\n",
    "user_reg_days = user_reg_ts.join(user_max_ts, user_reg_ts.userId == user_max_ts.userId).select(user_reg_ts[\"userId\"], ((user_max_ts[\"max(ts)\"]-user_reg_ts[\"registration\"])/(1000*60*60*24)).alias(\"regDay\"))"
   ]
  },
  {
   "cell_type": "code",
   "execution_count": 25,
   "metadata": {},
   "outputs": [
    {
     "name": "stdout",
     "output_type": "stream",
     "text": [
      "+------+------------------+\n",
      "|userId|            regDay|\n",
      "+------+------------------+\n",
      "|100010|14.328449074074074|\n",
      "|200002| 53.32314814814815|\n",
      "|   296| 26.63826388888889|\n",
      "|   125|105.42211805555556|\n",
      "|   124| 112.5537962962963|\n",
      "+------+------------------+\n",
      "only showing top 5 rows\n",
      "\n"
     ]
    }
   ],
   "source": [
    "user_reg_days.show(5)"
   ]
  },
  {
   "cell_type": "markdown",
   "metadata": {},
   "source": [
    "Feature 2: avg & min & max time per session"
   ]
  },
  {
   "cell_type": "code",
   "execution_count": 26,
   "metadata": {},
   "outputs": [],
   "source": [
    "user_session_time = df_withchurn.groupby(\"userId\", \"sessionId\").agg(((max(df_withchurn.ts)-min(df_withchurn.ts))/(1000*60)).alias(\"sessionTime\"))\n",
    "user_session_time_stat = user_session_time.groupby(\"userId\").agg(avg(user_session_time.sessionTime).alias(\"avgSessionTime\"), min(user_session_time.sessionTime).alias(\"minSessionTime\"), max(user_session_time.sessionTime).alias(\"maxSessionTime\")).sort(\"userId\")"
   ]
  },
  {
   "cell_type": "code",
   "execution_count": 27,
   "metadata": {},
   "outputs": [
    {
     "name": "stdout",
     "output_type": "stream",
     "text": [
      "+------+------------------+--------------------+------------------+\n",
      "|userId|    avgSessionTime|      minSessionTime|    maxSessionTime|\n",
      "+------+------------------+--------------------+------------------+\n",
      "|    10|            1502.4|              1502.4|            1502.4|\n",
      "|   100|350.47777777777776|0.016666666666666666|1645.2333333333333|\n",
      "|100001|137.66111111111113|   42.13333333333333|202.13333333333333|\n",
      "|100002|          150.2625|   52.63333333333333|333.43333333333334|\n",
      "|100003|296.92777777777775|                 0.0|1277.2333333333333|\n",
      "+------+------------------+--------------------+------------------+\n",
      "only showing top 5 rows\n",
      "\n"
     ]
    }
   ],
   "source": [
    "user_session_time_stat.show(5)"
   ]
  },
  {
   "cell_type": "markdown",
   "metadata": {},
   "source": [
    "Feature 3: number of songs per session"
   ]
  },
  {
   "cell_type": "code",
   "execution_count": 28,
   "metadata": {},
   "outputs": [],
   "source": [
    "user_session_songs = df_withchurn.filter(df_withchurn.page==\"NextSong\").groupby(\"userId\", \"sessionId\").count()\n",
    "user_session_songs_avg = user_session_songs.groupby(\"userId\").agg(avg(user_session_songs[\"count\"]).alias(\"avgSessionSongs\")).sort(\"userId\")"
   ]
  },
  {
   "cell_type": "code",
   "execution_count": 29,
   "metadata": {},
   "outputs": [
    {
     "name": "stdout",
     "output_type": "stream",
     "text": [
      "+------+-----------------+\n",
      "|userId|  avgSessionSongs|\n",
      "+------+-----------------+\n",
      "|    10|            360.0|\n",
      "|   100|86.71794871794872|\n",
      "|100001|             32.0|\n",
      "|100002|            34.25|\n",
      "|100003|           82.625|\n",
      "+------+-----------------+\n",
      "only showing top 5 rows\n",
      "\n"
     ]
    }
   ],
   "source": [
    "user_session_songs_avg.show(5)"
   ]
  },
  {
   "cell_type": "markdown",
   "metadata": {},
   "source": [
    "Feature 4: number of sessions"
   ]
  },
  {
   "cell_type": "code",
   "execution_count": 30,
   "metadata": {},
   "outputs": [],
   "source": [
    "user_session_count = df_withchurn.select(\"userId\", \"sessionId\").dropDuplicates().groupby(\"userId\").count()\n",
    "user_session_count = user_session_count.withColumnRenamed(\"count\", \"sessionCount\")"
   ]
  },
  {
   "cell_type": "code",
   "execution_count": 31,
   "metadata": {},
   "outputs": [
    {
     "name": "stdout",
     "output_type": "stream",
     "text": [
      "+------+------------+\n",
      "|userId|sessionCount|\n",
      "+------+------------+\n",
      "|200002|           5|\n",
      "|   296|           5|\n",
      "|100010|           2|\n",
      "|   125|           3|\n",
      "|     7|          15|\n",
      "+------+------------+\n",
      "only showing top 5 rows\n",
      "\n"
     ]
    }
   ],
   "source": [
    "user_session_count.show(5)"
   ]
  },
  {
   "cell_type": "markdown",
   "metadata": {},
   "source": [
    "Feature 5: gender"
   ]
  },
  {
   "cell_type": "code",
   "execution_count": 32,
   "metadata": {},
   "outputs": [],
   "source": [
    "user_gender = df_withchurn.select(\"userId\", \"gender\").dropDuplicates()\n",
    "user_gender = user_gender.replace([\"M\", \"F\"], [\"0\", \"1\"], \"gender\")\n",
    "user_gender = user_gender.select(\"userId\", user_gender.gender.cast(\"int\"))"
   ]
  },
  {
   "cell_type": "code",
   "execution_count": 33,
   "metadata": {},
   "outputs": [
    {
     "name": "stdout",
     "output_type": "stream",
     "text": [
      "+------+------+\n",
      "|userId|gender|\n",
      "+------+------+\n",
      "|   234|     0|\n",
      "|   188|     1|\n",
      "|    44|     1|\n",
      "|   273|     0|\n",
      "|    46|     1|\n",
      "+------+------+\n",
      "only showing top 5 rows\n",
      "\n"
     ]
    }
   ],
   "source": [
    "user_gender.show(5)"
   ]
  },
  {
   "cell_type": "markdown",
   "metadata": {},
   "source": [
    "Feature 6: whether the user is currently a paid user"
   ]
  },
  {
   "cell_type": "code",
   "execution_count": 34,
   "metadata": {},
   "outputs": [],
   "source": [
    "user_paid = df_withchurn.groupby(\"userId\", \"level\").agg(max(df_withchurn.ts).alias(\"finalTime\")).sort(\"userId\")\n",
    "user_recent_level_time = user_paid.groupby(\"userId\").agg(max(user_paid.finalTime).alias(\"recent\"))\n",
    "user_recent_level = user_recent_level_time.join(user_paid, [user_paid.userId == user_recent_level_time.userId, user_recent_level_time.recent == user_paid.finalTime]).select(user_paid.userId, \"level\").sort(\"userId\")\n",
    "user_recent_level = user_recent_level.replace([\"free\", \"paid\"], [\"0\", \"1\"], \"level\")\n",
    "user_recent_level = user_recent_level.select(\"userId\", user_recent_level.level.cast(\"int\"))"
   ]
  },
  {
   "cell_type": "code",
   "execution_count": 35,
   "metadata": {},
   "outputs": [
    {
     "name": "stdout",
     "output_type": "stream",
     "text": [
      "+------+-----+\n",
      "|userId|level|\n",
      "+------+-----+\n",
      "|    10|    1|\n",
      "|   100|    1|\n",
      "|100001|    0|\n",
      "|100002|    0|\n",
      "|100003|    1|\n",
      "+------+-----+\n",
      "only showing top 5 rows\n",
      "\n"
     ]
    }
   ],
   "source": [
    "user_recent_level.show(5)"
   ]
  },
  {
   "cell_type": "markdown",
   "metadata": {},
   "source": [
    "Feature 7: frequency of use of pages"
   ]
  },
  {
   "cell_type": "code",
   "execution_count": 36,
   "metadata": {},
   "outputs": [],
   "source": [
    "# get all the type of page\n",
    "page_list = [(row['page']) for row in df_withchurn.select(\"page\").dropDuplicates().collect()]\n",
    "\n",
    "# must remove the column which will cause data leakage\n",
    "page_list.remove(\"Cancel\")\n",
    "page_list.remove(\"Cancellation Confirmation\")\n",
    "\n",
    "# caculate the total page each user view\n",
    "user_page_view_count = df_withchurn.groupby(\"userId\").count()\n",
    "user_page_view_count = user_page_view_count.withColumnRenamed(\"count\", \"pageCount\")\n",
    "\n",
    "\n",
    "for page in page_list:\n",
    "    col_name = \"count\" + page.replace(\" \", \"\")\n",
    "    view_count = df_withchurn.filter(df_withchurn.page==page).groupby(\"userId\").count()\n",
    "    view_count = view_count.withColumnRenamed(\"count\", col_name).withColumnRenamed(\"userId\", \"userIdTemp\")\n",
    "    user_page_view_count = user_page_view_count.join(view_count, user_page_view_count.userId==view_count.userIdTemp, \"left\").drop(\"userIdTemp\")\n",
    "user_page_view_count = user_page_view_count.sort(\"userId\")\n",
    "user_page_view_count = user_page_view_count.fillna(0)"
   ]
  },
  {
   "cell_type": "code",
   "execution_count": 37,
   "metadata": {},
   "outputs": [],
   "source": [
    "col_list = user_page_view_count.columns\n",
    "col_list.remove(\"userId\")\n",
    "col_list.remove(\"pageCount\")\n",
    "freq_sql = \"select userId\"\n",
    "for col in col_list:\n",
    "    col_name = col.replace(\"count\", \"freq\")\n",
    "    sql_str = \", (\" + col + \"/(pageCount/100)) as \" + col_name\n",
    "    freq_sql = freq_sql + sql_str\n",
    "freq_sql = freq_sql + \" from user_page_view_count\"\n",
    "\n",
    "user_page_view_count.createOrReplaceTempView(\"user_page_view_count\")\n",
    "col_list = user_page_view_count.columns\n",
    "col_list.remove(\"userId\")\n",
    "col_list.remove(\"pageCount\")\n",
    "freq_sql = \"select userId\"\n",
    "for col in col_list:\n",
    "    col_name = col.replace(\"count\", \"freq\")\n",
    "    sql_str = \", (\" + col + \"/(pageCount/100)) as \" + col_name\n",
    "    freq_sql = freq_sql + sql_str\n",
    "freq_sql = freq_sql + \" from user_page_view_count\"\n",
    "\n",
    "user_page_view_freq = spark.sql(freq_sql)"
   ]
  },
  {
   "cell_type": "code",
   "execution_count": 38,
   "metadata": {},
   "outputs": [
    {
     "name": "stdout",
     "output_type": "stream",
     "text": [
      "+------+-------------------+-------------------+------------------+-------------------+-------------------+------------------+-------------------+-------------------+-------------------+------------------+------------------+-----------------+------------------+-------------------+-------------------+-------------------+-------------------+\n",
      "|userId|freqSubmitDowngrade|     freqThumbsDown|          freqHome|      freqDowngrade|     freqRollAdvert|        freqLogout|   freqSaveSettings|          freqAbout|       freqSettings| freqAddtoPlaylist|     freqAddFriend|     freqNextSong|      freqThumbsUp|           freqHelp|        freqUpgrade|          freqError|  freqSubmitUpgrade|\n",
      "+------+-------------------+-------------------+------------------+-------------------+-------------------+------------------+-------------------+-------------------+-------------------+------------------+------------------+-----------------+------------------+-------------------+-------------------+-------------------+-------------------+\n",
      "|    10|                0.0|0.23640661938534277|3.5460992907801416|0.23640661938534277|                0.0|0.9456264775413711|                0.0|                0.0|0.47281323877068554|3.3096926713947985|0.7092198581560283| 85.1063829787234|4.0189125295508275| 0.7092198581560283|                0.0|0.23640661938534277|                0.0|\n",
      "|   100|                0.0| 0.9252313078269567|3.3758439609902475| 1.0002500625156288|0.20005001250312576| 0.900225056264066|0.05001250312578144|0.30007501875468867|0.42510627656914224|2.3505876469117277|1.7754438609652412|84.57114278569642|3.5758939734933732|0.42510627656914224|0.02500625156289072|0.07501875468867217|0.02500625156289072|\n",
      "|100001|                0.0| 0.7462686567164178|2.9850746268656714|                0.0|  9.701492537313433|1.4925373134328357|                0.0| 0.7462686567164178| 2.2388059701492535|2.2388059701492535|0.7462686567164178|71.64179104477611| 3.731343283582089| 0.7462686567164178| 1.4925373134328357|                0.0|                0.0|\n",
      "|100002| 0.5649717514124294| 1.1299435028248588| 6.779661016949152| 1.1299435028248588|  2.824858757062147| 1.694915254237288|                0.0|                0.0|                0.0| 1.694915254237288|               0.0|77.40112994350282| 4.519774011299435| 1.1299435028248588| 0.5649717514124294|                0.0| 0.5649717514124294|\n",
      "|100003|                0.0| 1.2091898428053205|3.7484885126964937| 1.5719467956469166|  4.957678355501814|1.4510278113663846|0.12091898428053205| 0.2418379685610641| 0.4836759371221282| 2.297460701330109|0.9673518742442564|79.92744860943168|1.9347037484885128|0.36275695284159615| 0.2418379685610641|0.12091898428053205|0.12091898428053205|\n",
      "+------+-------------------+-------------------+------------------+-------------------+-------------------+------------------+-------------------+-------------------+-------------------+------------------+------------------+-----------------+------------------+-------------------+-------------------+-------------------+-------------------+\n",
      "only showing top 5 rows\n",
      "\n"
     ]
    }
   ],
   "source": [
    "user_page_view_freq.show(5)"
   ]
  },
  {
   "cell_type": "markdown",
   "metadata": {},
   "source": [
    "Feature 8: how many singers have the user heard"
   ]
  },
  {
   "cell_type": "code",
   "execution_count": 39,
   "metadata": {},
   "outputs": [],
   "source": [
    "user_artist_count = df_withchurn.filter(df_withchurn.page==\"NextSong\").select(\"userId\", \"artist\").dropDuplicates().groupby(\"userId\").count()\n",
    "user_artist_count = user_artist_count.withColumnRenamed(\"count\", \"aritstCount\")"
   ]
  },
  {
   "cell_type": "code",
   "execution_count": 40,
   "metadata": {},
   "outputs": [
    {
     "name": "stdout",
     "output_type": "stream",
     "text": [
      "+------+-----------+\n",
      "|userId|aritstCount|\n",
      "+------+-----------+\n",
      "|200002|        287|\n",
      "|100010|         94|\n",
      "|   296|        108|\n",
      "|   125|         61|\n",
      "|   124|       1240|\n",
      "+------+-----------+\n",
      "only showing top 5 rows\n",
      "\n"
     ]
    }
   ],
   "source": [
    "user_artist_count.show(5)"
   ]
  },
  {
   "cell_type": "markdown",
   "metadata": {},
   "source": [
    "Label: churn"
   ]
  },
  {
   "cell_type": "code",
   "execution_count": 41,
   "metadata": {},
   "outputs": [],
   "source": [
    "user_churn = df_withchurn.select(\"userId\", \"churn\").dropDuplicates()\n",
    "user_churn = user_churn.select(\"userId\", user_churn.churn.cast(\"int\"))"
   ]
  },
  {
   "cell_type": "code",
   "execution_count": 42,
   "metadata": {},
   "outputs": [
    {
     "name": "stdout",
     "output_type": "stream",
     "text": [
      "+------+-----+\n",
      "|userId|churn|\n",
      "+------+-----+\n",
      "|    73|    0|\n",
      "|    19|    0|\n",
      "|   209|    0|\n",
      "|100005|    1|\n",
      "|100030|    1|\n",
      "+------+-----+\n",
      "only showing top 5 rows\n",
      "\n"
     ]
    }
   ],
   "source": [
    "user_churn.show(5)"
   ]
  },
  {
   "cell_type": "markdown",
   "metadata": {},
   "source": [
    "Put all the features into a dataframe"
   ]
  },
  {
   "cell_type": "code",
   "execution_count": 43,
   "metadata": {},
   "outputs": [],
   "source": [
    "# put all the features dataframe into a list\n",
    "features_list = []\n",
    "features_list.append(user_reg_days)\n",
    "features_list.append(user_session_time_stat)\n",
    "features_list.append(user_session_songs_avg)\n",
    "features_list.append(user_session_count)\n",
    "features_list.append(user_gender)\n",
    "features_list.append(user_recent_level)\n",
    "features_list.append(user_page_view_freq)\n",
    "features_list.append(user_artist_count)\n",
    "features_list.append(user_churn)"
   ]
  },
  {
   "cell_type": "code",
   "execution_count": 44,
   "metadata": {},
   "outputs": [],
   "source": [
    "# prepare the final dataframe to join all the other features\n",
    "df_final = df_withchurn.select(\"userId\").dropDuplicates()"
   ]
  },
  {
   "cell_type": "code",
   "execution_count": 45,
   "metadata": {},
   "outputs": [],
   "source": [
    "def features_merge(df1, df2):\n",
    "    \"\"\"\n",
    "    This function is used to merge the feature using left join\n",
    "    input: two data frame to be merged\n",
    "    output: merged dataframe\n",
    "    \"\"\"\n",
    "    df2 = df2.withColumnRenamed(\"userId\", \"userIdTemp\")\n",
    "    df = df1.join(df2, df1.userId == df2.userIdTemp, \"left\").drop(\"userIdTemp\")\n",
    "    return df"
   ]
  },
  {
   "cell_type": "code",
   "execution_count": 46,
   "metadata": {},
   "outputs": [],
   "source": [
    "# use function to merge the features in the list\n",
    "for feature in features_list:\n",
    "    df_final = features_merge(df_final, feature)"
   ]
  },
  {
   "cell_type": "code",
   "execution_count": 47,
   "metadata": {},
   "outputs": [
    {
     "name": "stdout",
     "output_type": "stream",
     "text": [
      "+------+------------------+------------------+--------------------+------------------+-----------------+------------+------+-----+-------------------+-------------------+------------------+-------------------+-------------------+------------------+-------------------+-------------------+-------------------+------------------+------------------+-----------------+------------------+-------------------+-------------------+-------------------+-------------------+-----------+-----+\n",
      "|userId|            regDay|    avgSessionTime|      minSessionTime|    maxSessionTime|  avgSessionSongs|sessionCount|gender|level|freqSubmitDowngrade|     freqThumbsDown|          freqHome|      freqDowngrade|     freqRollAdvert|        freqLogout|   freqSaveSettings|          freqAbout|       freqSettings| freqAddtoPlaylist|     freqAddFriend|     freqNextSong|      freqThumbsUp|           freqHelp|        freqUpgrade|          freqError|  freqSubmitUpgrade|aritstCount|churn|\n",
      "+------+------------------+------------------+--------------------+------------------+-----------------+------------+------+-----+-------------------+-------------------+------------------+-------------------+-------------------+------------------+-------------------+-------------------+-------------------+------------------+------------------+-----------------+------------------+-------------------+-------------------+-------------------+-------------------+-----------+-----+\n",
      "|    10|10.368854166666667|            1502.4|              1502.4|            1502.4|            360.0|           1|     0|    1|                0.0|0.23640661938534277|3.5460992907801416|0.23640661938534277|                0.0|0.9456264775413711|                0.0|                0.0|0.47281323877068554|3.3096926713947985|0.7092198581560283| 85.1063829787234|4.0189125295508275| 0.7092198581560283|                0.0|0.23640661938534277|                0.0|        306|    1|\n",
      "|   100| 65.09505787037037|350.47777777777776|0.016666666666666666|1645.2333333333333|86.71794871794872|          39|     0|    1|                0.0| 0.9252313078269567|3.3758439609902475| 1.0002500625156288|0.20005001250312576| 0.900225056264066|0.05001250312578144|0.30007501875468867|0.42510627656914224|2.3505876469117277|1.7754438609652412|84.57114278569642|3.5758939734933732|0.42510627656914224|0.02500625156289072|0.07501875468867217|0.02500625156289072|       1963|    0|\n",
      "|100001| 44.72677083333333|137.66111111111113|   42.13333333333333|202.13333333333333|             32.0|           3|     1|    0|                0.0| 0.7462686567164178|2.9850746268656714|                0.0|  9.701492537313433|1.4925373134328357|                0.0| 0.7462686567164178| 2.2388059701492535|2.2388059701492535|0.7462686567164178|71.64179104477611| 3.731343283582089| 0.7462686567164178| 1.4925373134328357|                0.0|                0.0|         93|    1|\n",
      "|100002|129.76818287037037|          150.2625|   52.63333333333333|333.43333333333334|            34.25|           4|     1|    0| 0.5649717514124294| 1.1299435028248588| 6.779661016949152| 1.1299435028248588|  2.824858757062147| 1.694915254237288|                0.0|                0.0|                0.0| 1.694915254237288|               0.0|77.40112994350282| 4.519774011299435| 1.1299435028248588| 0.5649717514124294|                0.0| 0.5649717514124294|        128|    0|\n",
      "|100003| 50.37324074074074|296.92777777777775|                 0.0|1277.2333333333333|           82.625|           9|     1|    1|                0.0| 1.2091898428053205|3.7484885126964937| 1.5719467956469166|  4.957678355501814|1.4510278113663846|0.12091898428053205| 0.2418379685610641| 0.4836759371221282| 2.297460701330109|0.9673518742442564|79.92744860943168|1.9347037484885128|0.36275695284159615| 0.2418379685610641|0.12091898428053205|0.12091898428053205|        545|    1|\n",
      "+------+------------------+------------------+--------------------+------------------+-----------------+------------+------+-----+-------------------+-------------------+------------------+-------------------+-------------------+------------------+-------------------+-------------------+-------------------+------------------+------------------+-----------------+------------------+-------------------+-------------------+-------------------+-------------------+-----------+-----+\n",
      "only showing top 5 rows\n",
      "\n"
     ]
    }
   ],
   "source": [
    "# sort and view the final dataframe\n",
    "df_final = df_final.sort(\"userId\")\n",
    "df_final.persist()\n",
    "df_final.show(5)"
   ]
  },
  {
   "cell_type": "markdown",
   "metadata": {},
   "source": [
    "# Modeling\n",
    "Split the full dataset into train, test, and validation sets. Test out several of the machine learning methods you learned. Evaluate the accuracy of the various models, tuning parameters as necessary. Determine your winning model based on test accuracy and report results on the validation set. Since the churned users are a fairly small subset, I suggest using F1 score as the metric to optimize."
   ]
  },
  {
   "cell_type": "markdown",
   "metadata": {},
   "source": [
    "See how many data do we have."
   ]
  },
  {
   "cell_type": "code",
   "execution_count": 48,
   "metadata": {},
   "outputs": [
    {
     "name": "stdout",
     "output_type": "stream",
     "text": [
      "+-----+-----+\n",
      "|churn|count|\n",
      "+-----+-----+\n",
      "|    1|   99|\n",
      "|    0|  349|\n",
      "+-----+-----+\n",
      "\n"
     ]
    }
   ],
   "source": [
    "df_final.groupby(\"churn\").count().show()"
   ]
  },
  {
   "cell_type": "code",
   "execution_count": 3,
   "metadata": {},
   "outputs": [],
   "source": [
    "out_path = \"final_data.csv\""
   ]
  },
  {
   "cell_type": "code",
   "execution_count": 51,
   "metadata": {},
   "outputs": [],
   "source": [
    "df_final.write.save(out_path, format=\"csv\", header=True)"
   ]
  },
  {
   "cell_type": "code",
   "execution_count": 4,
   "metadata": {},
   "outputs": [
    {
     "data": {
      "text/plain": [
       "DataFrame[userId: string, regDay: string, avgSessionTime: string, minSessionTime: string, maxSessionTime: string, avgSessionSongs: string, sessionCount: string, gender: string, level: string, freqSubmitDowngrade: string, freqThumbsDown: string, freqHome: string, freqDowngrade: string, freqRollAdvert: string, freqLogout: string, freqSaveSettings: string, freqAbout: string, freqSettings: string, freqAddtoPlaylist: string, freqAddFriend: string, freqNextSong: string, freqThumbsUp: string, freqHelp: string, freqUpgrade: string, freqError: string, freqSubmitUpgrade: string, aritstCount: string, churn: string]"
      ]
     },
     "execution_count": 4,
     "metadata": {},
     "output_type": "execute_result"
    }
   ],
   "source": [
    "df_final = spark.read.csv(out_path, header=True)\n",
    "df_final.persist()"
   ]
  },
  {
   "cell_type": "markdown",
   "metadata": {},
   "source": [
    "Convert all the features to numeric."
   ]
  },
  {
   "cell_type": "code",
   "execution_count": 5,
   "metadata": {},
   "outputs": [],
   "source": [
    "num_features_list = df_final.columns[1:]\n",
    "for f in num_features_list:\n",
    "    f_name = f + \"Num\"\n",
    "    df_final = df_final.withColumn(f_name, df_final[f].cast(\"float\"))\n",
    "    df_final = df_final.drop(f)"
   ]
  },
  {
   "cell_type": "markdown",
   "metadata": {},
   "source": [
    "Put the features to be trained into a vector"
   ]
  },
  {
   "cell_type": "code",
   "execution_count": 6,
   "metadata": {},
   "outputs": [],
   "source": [
    "assembler = VectorAssembler(inputCols=df_final.columns[1:-1], outputCol=\"NumFeatures\")\n",
    "data = assembler.transform(df_final)"
   ]
  },
  {
   "cell_type": "code",
   "execution_count": 7,
   "metadata": {},
   "outputs": [],
   "source": [
    "scaler = StandardScaler(inputCol=\"NumFeatures\", outputCol=\"ScaledNumFeatures\", withStd=True)\n",
    "scalerModel = scaler.fit(data)\n",
    "data = scalerModel.transform(data)"
   ]
  },
  {
   "cell_type": "code",
   "execution_count": 8,
   "metadata": {},
   "outputs": [],
   "source": [
    "data = data.select(data.churnNum.alias(\"label\"), data.ScaledNumFeatures.alias(\"features\"))"
   ]
  },
  {
   "cell_type": "code",
   "execution_count": 9,
   "metadata": {},
   "outputs": [],
   "source": [
    "train, validation = data.randomSplit([0.9, 0.1], seed=42)\n",
    "train = train.cache()"
   ]
  },
  {
   "cell_type": "code",
   "execution_count": 10,
   "metadata": {},
   "outputs": [],
   "source": [
    "lr =  LogisticRegression()\n",
    "paramGrid = ParamGridBuilder() \\\n",
    "    .addGrid(lr.elasticNetParam,[0.0, 0.1, 0.5, 1.0]) \\\n",
    "    .addGrid(lr.regParam,[0.0, 0.05, 0.1]) \\\n",
    "    .build()\n",
    "\n",
    "crossval = CrossValidator(estimator=lr,\n",
    "                          estimatorParamMaps=paramGrid,\n",
    "                          evaluator=MulticlassClassificationEvaluator(),\n",
    "                          numFolds=3)\n",
    "cvModel_lr = crossval.fit(train)"
   ]
  },
  {
   "cell_type": "code",
   "execution_count": 57,
   "metadata": {},
   "outputs": [],
   "source": [
    "cvModel_lr.save('cvModel_lr.model')"
   ]
  },
  {
   "cell_type": "code",
   "execution_count": 11,
   "metadata": {},
   "outputs": [
    {
     "data": {
      "text/plain": [
       "[0.758073899263998,\n",
       " 0.7497375806871707,\n",
       " 0.7192001597561979,\n",
       " 0.758073899263998,\n",
       " 0.7293296973108794,\n",
       " 0.7004447445148309,\n",
       " 0.758073899263998,\n",
       " 0.703614600825628,\n",
       " 0.6844117345843954,\n",
       " 0.758073899263998,\n",
       " 0.6844117345843954,\n",
       " 0.6789098670303118]"
      ]
     },
     "execution_count": 11,
     "metadata": {},
     "output_type": "execute_result"
    }
   ],
   "source": [
    "cvModel_lr.avgMetrics"
   ]
  },
  {
   "cell_type": "code",
   "execution_count": 12,
   "metadata": {},
   "outputs": [],
   "source": [
    "dt = DecisionTreeClassifier()\n",
    "paramGrid = ParamGridBuilder() \\\n",
    "    .addGrid(dt.impurity,['entropy', 'gini']) \\\n",
    "    .addGrid(dt.maxDepth,[2, 3, 4, 5, 6, 7, 8]) \\\n",
    "    .build()\n",
    "\n",
    "crossval_dt = CrossValidator(estimator=dt,\n",
    "                          estimatorParamMaps=paramGrid,\n",
    "                          evaluator=MulticlassClassificationEvaluator(),\n",
    "                          numFolds=3)\n",
    "\n",
    "cvModel_dt = crossval_dt.fit(train)"
   ]
  },
  {
   "cell_type": "code",
   "execution_count": 58,
   "metadata": {},
   "outputs": [],
   "source": [
    "cvModel_dt.save('cvModel_dt.model')"
   ]
  },
  {
   "cell_type": "code",
   "execution_count": 13,
   "metadata": {},
   "outputs": [
    {
     "data": {
      "text/plain": [
       "[0.7565946570271784,\n",
       " 0.7258049225510617,\n",
       " 0.730297846321325,\n",
       " 0.7443833923626915,\n",
       " 0.7130946011474181,\n",
       " 0.7068870274222387,\n",
       " 0.6958715865541752,\n",
       " 0.7574408787067335,\n",
       " 0.7032239208818312,\n",
       " 0.7210414516078021,\n",
       " 0.709387596619812,\n",
       " 0.7086955016217351,\n",
       " 0.7094761942424289,\n",
       " 0.7039114252562907]"
      ]
     },
     "execution_count": 13,
     "metadata": {},
     "output_type": "execute_result"
    }
   ],
   "source": [
    "cvModel_dt.avgMetrics"
   ]
  },
  {
   "cell_type": "code",
   "execution_count": 14,
   "metadata": {},
   "outputs": [],
   "source": [
    "gbt = GBTClassifier()\n",
    "\n",
    "paramGrid = ParamGridBuilder() \\\n",
    "    .addGrid(gbt.maxIter,[3, 10, 20]) \\\n",
    "    .addGrid(gbt.maxDepth,[2, 4, 6, 8]) \\\n",
    "    .build()\n",
    "\n",
    "crossval_gbt = CrossValidator(estimator=gbt,\n",
    "                          estimatorParamMaps=paramGrid,\n",
    "                          evaluator=MulticlassClassificationEvaluator(),\n",
    "                          numFolds=3)\n",
    "\n",
    "cvModel_gbt = crossval_gbt.fit(train)"
   ]
  },
  {
   "cell_type": "code",
   "execution_count": 59,
   "metadata": {},
   "outputs": [],
   "source": [
    "cvModel_gbt.save('cvModel_gbt.model')"
   ]
  },
  {
   "cell_type": "code",
   "execution_count": 15,
   "metadata": {},
   "outputs": [
    {
     "data": {
      "text/plain": [
       "[0.7556589146377879,\n",
       " 0.7235617693870003,\n",
       " 0.7086955016217351,\n",
       " 0.7020047693945548,\n",
       " 0.7645747104773,\n",
       " 0.7276358548001591,\n",
       " 0.7123277203890657,\n",
       " 0.6962532169275872,\n",
       " 0.7617155495442464,\n",
       " 0.7407300678678377,\n",
       " 0.7213336406877692,\n",
       " 0.6915378469042275]"
      ]
     },
     "execution_count": 15,
     "metadata": {},
     "output_type": "execute_result"
    }
   ],
   "source": [
    "cvModel_gbt.avgMetrics"
   ]
  },
  {
   "cell_type": "markdown",
   "metadata": {},
   "source": [
    "Use undersampling to optimize the F1 score"
   ]
  },
  {
   "cell_type": "code",
   "execution_count": 16,
   "metadata": {},
   "outputs": [
    {
     "name": "stdout",
     "output_type": "stream",
     "text": [
      "+-----+-----+\n",
      "|label|count|\n",
      "+-----+-----+\n",
      "|  1.0|   89|\n",
      "|  0.0|   87|\n",
      "+-----+-----+\n",
      "\n"
     ]
    }
   ],
   "source": [
    "stratified_train = train.sampleBy('label', fractions={0: 99/349, 1: 1.0}).cache()\n",
    "stratified_train.groupby(\"label\").count().show()"
   ]
  },
  {
   "cell_type": "code",
   "execution_count": 35,
   "metadata": {},
   "outputs": [
    {
     "data": {
      "text/plain": [
       "[0.6131447724224084,\n",
       " 0.6732860606468921,\n",
       " 0.6696185966538797,\n",
       " 0.6131447724224084,\n",
       " 0.6616244386316069,\n",
       " 0.6631856465289562,\n",
       " 0.6131447724224084,\n",
       " 0.6579597221554122,\n",
       " 0.6684085924161665,\n",
       " 0.6131447724224084,\n",
       " 0.6714741182984848,\n",
       " 0.5967248547354702]"
      ]
     },
     "execution_count": 35,
     "metadata": {},
     "output_type": "execute_result"
    }
   ],
   "source": [
    "lrs =  LogisticRegression()\n",
    "paramGrid = ParamGridBuilder() \\\n",
    "    .addGrid(lrs.elasticNetParam,[0.0, 0.1, 0.5, 1.0]) \\\n",
    "    .addGrid(lrs.regParam,[0.0, 0.05, 0.1]) \\\n",
    "    .build()\n",
    "\n",
    "crossval_lrs = CrossValidator(estimator=lrs,\n",
    "                          estimatorParamMaps=paramGrid,\n",
    "                          evaluator=MulticlassClassificationEvaluator(),\n",
    "                          numFolds=3)\n",
    "cvModel_lrs = crossval_lrs.fit(stratified_train)\n",
    "cvModel_lrs.avgMetrics"
   ]
  },
  {
   "cell_type": "code",
   "execution_count": 60,
   "metadata": {},
   "outputs": [],
   "source": [
    "cvModel_lrs.save('cvModel_lrs.model')"
   ]
  },
  {
   "cell_type": "code",
   "execution_count": 40,
   "metadata": {},
   "outputs": [
    {
     "data": {
      "text/plain": [
       "[0.5790664857616097,\n",
       " 0.560014129134512,\n",
       " 0.5624879615737753,\n",
       " 0.5564878803818784,\n",
       " 0.5756087372544202,\n",
       " 0.5965221752848144,\n",
       " 0.5934853590515807,\n",
       " 0.5951811838091631,\n",
       " 0.625616767112007,\n",
       " 0.632753359193532,\n",
       " 0.644576270545735,\n",
       " 0.6545159044638099,\n",
       " 0.6468125787571353,\n",
       " 0.6468125787571353]"
      ]
     },
     "execution_count": 40,
     "metadata": {},
     "output_type": "execute_result"
    }
   ],
   "source": [
    "dts = DecisionTreeClassifier()\n",
    "paramGrid = ParamGridBuilder() \\\n",
    "    .addGrid(dts.impurity,['entropy', 'gini']) \\\n",
    "    .addGrid(dts.maxDepth,[2, 3, 4, 5, 6, 7, 8]) \\\n",
    "    .build()\n",
    "crossval_dts = CrossValidator(estimator=dts,\n",
    "                          estimatorParamMaps=paramGrid,\n",
    "                          evaluator=MulticlassClassificationEvaluator(),\n",
    "                          numFolds=3)\n",
    "cvModel_dts = crossval_dts.fit(stratified_train)\n",
    "cvModel_dts.avgMetrics"
   ]
  },
  {
   "cell_type": "code",
   "execution_count": 61,
   "metadata": {},
   "outputs": [],
   "source": [
    "cvModel_dts.save('cvModel_dts.model')"
   ]
  },
  {
   "cell_type": "code",
   "execution_count": 37,
   "metadata": {},
   "outputs": [
    {
     "data": {
      "text/plain": [
       "[0.6411000472859321,\n",
       " 0.6537710973398548,\n",
       " 0.654020411011221,\n",
       " 0.6468125787571353,\n",
       " 0.6147909774649721,\n",
       " 0.64235515976641,\n",
       " 0.654020411011221,\n",
       " 0.6468125787571353,\n",
       " 0.6226481773714728,\n",
       " 0.6467265330548766,\n",
       " 0.6469282124296607,\n",
       " 0.6468125787571353]"
      ]
     },
     "execution_count": 37,
     "metadata": {},
     "output_type": "execute_result"
    }
   ],
   "source": [
    "gbts = GBTClassifier()\n",
    "paramGrid = ParamGridBuilder() \\\n",
    "    .addGrid(gbts.maxIter,[3, 10, 20]) \\\n",
    "    .addGrid(gbts.maxDepth,[2, 4, 6, 8]) \\\n",
    "    .build()\n",
    "crossval_gbts = CrossValidator(estimator=gbts,\n",
    "                          estimatorParamMaps=paramGrid,\n",
    "                          evaluator=MulticlassClassificationEvaluator(),\n",
    "                          numFolds=3)\n",
    "cvModel_gbts = crossval_gbts.fit(stratified_train)\n",
    "cvModel_gbts.avgMetrics"
   ]
  },
  {
   "cell_type": "code",
   "execution_count": 62,
   "metadata": {},
   "outputs": [],
   "source": [
    "cvModel_gbts.save('cvModel_gbts.model')"
   ]
  },
  {
   "cell_type": "markdown",
   "metadata": {},
   "source": [
    "Use the validate data to evaluate the best model through F1 score."
   ]
  },
  {
   "cell_type": "code",
   "execution_count": 53,
   "metadata": {},
   "outputs": [],
   "source": [
    "results = cvModel_lr.transform(validation)"
   ]
  },
  {
   "cell_type": "code",
   "execution_count": 54,
   "metadata": {},
   "outputs": [
    {
     "name": "stdout",
     "output_type": "stream",
     "text": [
      "0.6\n",
      "0.3\n",
      "0.4\n"
     ]
    }
   ],
   "source": [
    "tp = results.filter(\"label = 1 and prediction = 1\").count()\n",
    "fp = results.filter(\"label = 0 and prediction = 1\").count()\n",
    "fn = results.filter(\"label = 1 and prediction = 0\").count()\n",
    "precision = tp / (tp + fp) \n",
    "recall = tp / (tp + fn)\n",
    "f1 = 2*precision*recall / (precision+recall)\n",
    "print(precision)\n",
    "print(recall)\n",
    "print(f1)"
   ]
  },
  {
   "cell_type": "code",
   "execution_count": 51,
   "metadata": {},
   "outputs": [],
   "source": [
    "results = cvModel_lrs.transform(validation)"
   ]
  },
  {
   "cell_type": "code",
   "execution_count": 52,
   "metadata": {},
   "outputs": [
    {
     "name": "stdout",
     "output_type": "stream",
     "text": [
      "0.42105263157894735\n",
      "0.8\n",
      "0.5517241379310345\n"
     ]
    }
   ],
   "source": [
    "tp = results.filter(\"label = 1 and prediction = 1\").count()\n",
    "fp = results.filter(\"label = 0 and prediction = 1\").count()\n",
    "fn = results.filter(\"label = 1 and prediction = 0\").count()\n",
    "precision = tp / (tp + fp) \n",
    "recall = tp / (tp + fn)\n",
    "f1 = 2*precision*recall / (precision+recall)\n",
    "print(precision)\n",
    "print(recall)\n",
    "print(f1)"
   ]
  },
  {
   "cell_type": "code",
   "execution_count": 55,
   "metadata": {},
   "outputs": [
    {
     "data": {
      "text/plain": [
       "DenseVector([-0.3309, 0.0733, 0.0879, 0.0051, 0.1531, -0.0413, 0.0551, 0.33, -0.047, 0.6621, -0.0263, 0.4479, 0.1244, -0.2142, -0.1489, -0.3724, -0.0263, -0.0841, 0.0727, -0.5653, -0.2821, 0.1021, 0.1177, -0.1501, 0.1545, -0.0993])"
      ]
     },
     "execution_count": 55,
     "metadata": {},
     "output_type": "execute_result"
    }
   ],
   "source": [
    "cvModel_lrs.bestModel.coefficients"
   ]
  },
  {
   "cell_type": "code",
   "execution_count": 56,
   "metadata": {},
   "outputs": [
    {
     "data": {
      "text/plain": [
       "['userId',\n",
       " 'regDayNum',\n",
       " 'avgSessionTimeNum',\n",
       " 'minSessionTimeNum',\n",
       " 'maxSessionTimeNum',\n",
       " 'avgSessionSongsNum',\n",
       " 'sessionCountNum',\n",
       " 'genderNum',\n",
       " 'levelNum',\n",
       " 'freqSubmitDowngradeNum',\n",
       " 'freqThumbsDownNum',\n",
       " 'freqHomeNum',\n",
       " 'freqDowngradeNum',\n",
       " 'freqRollAdvertNum',\n",
       " 'freqLogoutNum',\n",
       " 'freqSaveSettingsNum',\n",
       " 'freqAboutNum',\n",
       " 'freqSettingsNum',\n",
       " 'freqAddtoPlaylistNum',\n",
       " 'freqAddFriendNum',\n",
       " 'freqNextSongNum',\n",
       " 'freqThumbsUpNum',\n",
       " 'freqHelpNum',\n",
       " 'freqUpgradeNum',\n",
       " 'freqErrorNum',\n",
       " 'freqSubmitUpgradeNum',\n",
       " 'aritstCountNum',\n",
       " 'churnNum']"
      ]
     },
     "execution_count": 56,
     "metadata": {},
     "output_type": "execute_result"
    }
   ],
   "source": [
    "df_final.columns"
   ]
  }
 ],
 "metadata": {
  "kernelspec": {
   "display_name": "Python 3",
   "language": "python",
   "name": "python3"
  },
  "language_info": {
   "codemirror_mode": {
    "name": "ipython",
    "version": 3
   },
   "file_extension": ".py",
   "mimetype": "text/x-python",
   "name": "python",
   "nbconvert_exporter": "python",
   "pygments_lexer": "ipython3",
   "version": "3.6.3"
  }
 },
 "nbformat": 4,
 "nbformat_minor": 2
}
